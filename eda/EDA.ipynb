{
 "cells": [
  {
   "cell_type": "code",
   "id": "initial_id",
   "metadata": {
    "collapsed": true,
    "ExecuteTime": {
     "end_time": "2025-09-23T21:45:24.424243Z",
     "start_time": "2025-09-23T21:45:24.417427Z"
    }
   },
   "source": [
    "import pandas as pd\n",
    "from global_config import *\n",
    "import matplotlib.pyplot as plt"
   ],
   "outputs": [],
   "execution_count": 12
  },
  {
   "metadata": {
    "ExecuteTime": {
     "end_time": "2025-09-23T21:58:03.331853Z",
     "start_time": "2025-09-23T21:58:01.853921Z"
    }
   },
   "cell_type": "code",
   "source": [
    "df = pd.read_csv(TRAIN_PATH)\n",
    "print(f'unique col = {df.columns.tolist()},\\n'\n",
    "      f'shape dataframe = {df.shape},\\n'\n",
    "      f'is na = {df.isna().sum().sum()}\\n')\n",
    "df"
   ],
   "id": "63c0db8b026e4559",
   "outputs": [
    {
     "name": "stdout",
     "output_type": "stream",
     "text": [
      "unique col = ['id', 'comment_text', 'toxic', 'severe_toxic', 'obscene', 'threat', 'insult', 'identity_hate'],\n",
      "shape dataframe = (159571, 8),\n",
      "is na = 0\n",
      "\n"
     ]
    },
    {
     "data": {
      "text/plain": [
       "                      id                                       comment_text  \\\n",
       "0       0000997932d777bf  Explanation\\nWhy the edits made under my usern...   \n",
       "1       000103f0d9cfb60f  D'aww! He matches this background colour I'm s...   \n",
       "2       000113f07ec002fd  Hey man, I'm really not trying to edit war. It...   \n",
       "3       0001b41b1c6bb37e  \"\\nMore\\nI can't make any real suggestions on ...   \n",
       "4       0001d958c54c6e35  You, sir, are my hero. Any chance you remember...   \n",
       "...                  ...                                                ...   \n",
       "159566  ffe987279560d7ff  \":::::And for the second time of asking, when ...   \n",
       "159567  ffea4adeee384e90  You should be ashamed of yourself \\n\\nThat is ...   \n",
       "159568  ffee36eab5c267c9  Spitzer \\n\\nUmm, theres no actual article for ...   \n",
       "159569  fff125370e4aaaf3  And it looks like it was actually you who put ...   \n",
       "159570  fff46fc426af1f9a  \"\\nAnd ... I really don't think you understand...   \n",
       "\n",
       "        toxic  severe_toxic  obscene  threat  insult  identity_hate  \n",
       "0           0             0        0       0       0              0  \n",
       "1           0             0        0       0       0              0  \n",
       "2           0             0        0       0       0              0  \n",
       "3           0             0        0       0       0              0  \n",
       "4           0             0        0       0       0              0  \n",
       "...       ...           ...      ...     ...     ...            ...  \n",
       "159566      0             0        0       0       0              0  \n",
       "159567      0             0        0       0       0              0  \n",
       "159568      0             0        0       0       0              0  \n",
       "159569      0             0        0       0       0              0  \n",
       "159570      0             0        0       0       0              0  \n",
       "\n",
       "[159571 rows x 8 columns]"
      ],
      "text/html": [
       "<div>\n",
       "<style scoped>\n",
       "    .dataframe tbody tr th:only-of-type {\n",
       "        vertical-align: middle;\n",
       "    }\n",
       "\n",
       "    .dataframe tbody tr th {\n",
       "        vertical-align: top;\n",
       "    }\n",
       "\n",
       "    .dataframe thead th {\n",
       "        text-align: right;\n",
       "    }\n",
       "</style>\n",
       "<table border=\"1\" class=\"dataframe\">\n",
       "  <thead>\n",
       "    <tr style=\"text-align: right;\">\n",
       "      <th></th>\n",
       "      <th>id</th>\n",
       "      <th>comment_text</th>\n",
       "      <th>toxic</th>\n",
       "      <th>severe_toxic</th>\n",
       "      <th>obscene</th>\n",
       "      <th>threat</th>\n",
       "      <th>insult</th>\n",
       "      <th>identity_hate</th>\n",
       "    </tr>\n",
       "  </thead>\n",
       "  <tbody>\n",
       "    <tr>\n",
       "      <th>0</th>\n",
       "      <td>0000997932d777bf</td>\n",
       "      <td>Explanation\\nWhy the edits made under my usern...</td>\n",
       "      <td>0</td>\n",
       "      <td>0</td>\n",
       "      <td>0</td>\n",
       "      <td>0</td>\n",
       "      <td>0</td>\n",
       "      <td>0</td>\n",
       "    </tr>\n",
       "    <tr>\n",
       "      <th>1</th>\n",
       "      <td>000103f0d9cfb60f</td>\n",
       "      <td>D'aww! He matches this background colour I'm s...</td>\n",
       "      <td>0</td>\n",
       "      <td>0</td>\n",
       "      <td>0</td>\n",
       "      <td>0</td>\n",
       "      <td>0</td>\n",
       "      <td>0</td>\n",
       "    </tr>\n",
       "    <tr>\n",
       "      <th>2</th>\n",
       "      <td>000113f07ec002fd</td>\n",
       "      <td>Hey man, I'm really not trying to edit war. It...</td>\n",
       "      <td>0</td>\n",
       "      <td>0</td>\n",
       "      <td>0</td>\n",
       "      <td>0</td>\n",
       "      <td>0</td>\n",
       "      <td>0</td>\n",
       "    </tr>\n",
       "    <tr>\n",
       "      <th>3</th>\n",
       "      <td>0001b41b1c6bb37e</td>\n",
       "      <td>\"\\nMore\\nI can't make any real suggestions on ...</td>\n",
       "      <td>0</td>\n",
       "      <td>0</td>\n",
       "      <td>0</td>\n",
       "      <td>0</td>\n",
       "      <td>0</td>\n",
       "      <td>0</td>\n",
       "    </tr>\n",
       "    <tr>\n",
       "      <th>4</th>\n",
       "      <td>0001d958c54c6e35</td>\n",
       "      <td>You, sir, are my hero. Any chance you remember...</td>\n",
       "      <td>0</td>\n",
       "      <td>0</td>\n",
       "      <td>0</td>\n",
       "      <td>0</td>\n",
       "      <td>0</td>\n",
       "      <td>0</td>\n",
       "    </tr>\n",
       "    <tr>\n",
       "      <th>...</th>\n",
       "      <td>...</td>\n",
       "      <td>...</td>\n",
       "      <td>...</td>\n",
       "      <td>...</td>\n",
       "      <td>...</td>\n",
       "      <td>...</td>\n",
       "      <td>...</td>\n",
       "      <td>...</td>\n",
       "    </tr>\n",
       "    <tr>\n",
       "      <th>159566</th>\n",
       "      <td>ffe987279560d7ff</td>\n",
       "      <td>\":::::And for the second time of asking, when ...</td>\n",
       "      <td>0</td>\n",
       "      <td>0</td>\n",
       "      <td>0</td>\n",
       "      <td>0</td>\n",
       "      <td>0</td>\n",
       "      <td>0</td>\n",
       "    </tr>\n",
       "    <tr>\n",
       "      <th>159567</th>\n",
       "      <td>ffea4adeee384e90</td>\n",
       "      <td>You should be ashamed of yourself \\n\\nThat is ...</td>\n",
       "      <td>0</td>\n",
       "      <td>0</td>\n",
       "      <td>0</td>\n",
       "      <td>0</td>\n",
       "      <td>0</td>\n",
       "      <td>0</td>\n",
       "    </tr>\n",
       "    <tr>\n",
       "      <th>159568</th>\n",
       "      <td>ffee36eab5c267c9</td>\n",
       "      <td>Spitzer \\n\\nUmm, theres no actual article for ...</td>\n",
       "      <td>0</td>\n",
       "      <td>0</td>\n",
       "      <td>0</td>\n",
       "      <td>0</td>\n",
       "      <td>0</td>\n",
       "      <td>0</td>\n",
       "    </tr>\n",
       "    <tr>\n",
       "      <th>159569</th>\n",
       "      <td>fff125370e4aaaf3</td>\n",
       "      <td>And it looks like it was actually you who put ...</td>\n",
       "      <td>0</td>\n",
       "      <td>0</td>\n",
       "      <td>0</td>\n",
       "      <td>0</td>\n",
       "      <td>0</td>\n",
       "      <td>0</td>\n",
       "    </tr>\n",
       "    <tr>\n",
       "      <th>159570</th>\n",
       "      <td>fff46fc426af1f9a</td>\n",
       "      <td>\"\\nAnd ... I really don't think you understand...</td>\n",
       "      <td>0</td>\n",
       "      <td>0</td>\n",
       "      <td>0</td>\n",
       "      <td>0</td>\n",
       "      <td>0</td>\n",
       "      <td>0</td>\n",
       "    </tr>\n",
       "  </tbody>\n",
       "</table>\n",
       "<p>159571 rows × 8 columns</p>\n",
       "</div>"
      ]
     },
     "execution_count": 28,
     "metadata": {},
     "output_type": "execute_result"
    }
   ],
   "execution_count": 28
  },
  {
   "metadata": {
    "ExecuteTime": {
     "end_time": "2025-09-23T21:58:03.536462Z",
     "start_time": "2025-09-23T21:58:03.376144Z"
    }
   },
   "cell_type": "code",
   "source": [
    "label_cols = [\"toxic\",\"severe_toxic\",\"obscene\",\"threat\",\"insult\",\"identity_hate\"]\n",
    "class_counts = df[label_cols].sum().sort_values(ascending=False)\n",
    "\n",
    "print(\"\\nNumber of positive examples per class:\")\n",
    "print(class_counts)\n",
    "\n",
    "class_counts.plot(kind=\"bar\", figsize=(8,4), title=\"Розподіл класів\")\n",
    "plt.show()\n"
   ],
   "id": "55a98d167d1a71af",
   "outputs": [
    {
     "name": "stdout",
     "output_type": "stream",
     "text": [
      "\n",
      "Number of positive examples per class:\n",
      "toxic            15294\n",
      "obscene           8449\n",
      "insult            7877\n",
      "severe_toxic      1595\n",
      "identity_hate     1405\n",
      "threat             478\n",
      "dtype: int64\n"
     ]
    },
    {
     "data": {
      "text/plain": [
       "<Figure size 800x400 with 1 Axes>"
      ],
      "image/png": "[encoded data removed]"
     },
     "metadata": {},
     "output_type": "display_data"
    }
   ],
   "execution_count": 29
  },
  {
   "metadata": {
    "ExecuteTime": {
     "end_time": "2025-09-23T21:58:04.078821Z",
     "start_time": "2025-09-23T21:58:03.613287Z"
    }
   },
   "cell_type": "code",
   "source": [
    "df[\"len\"] = df[\"comment_text\"].str.len()\n",
    "print(\"\\nAverage comment length:\", df[\"len\"].mean())\n",
    "print(\"Median comment length:\", df[\"len\"].median())\n",
    "print(\"Maximum comment length:\", df[\"len\"].max())\n",
    "\n",
    "df[\"len\"].hist(bins=50, figsize=(8,4))\n",
    "plt.title(\"Розподіл довжин коментарів\")\n",
    "plt.xlabel(\"Довжина тексту (символи)\")\n",
    "plt.ylabel(\"Кількість\")\n",
    "plt.show()\n"
   ],
   "id": "c49532425bcc7db6",
   "outputs": [
    {
     "name": "stdout",
     "output_type": "stream",
     "text": [
      "\n",
      "Average comment length: 394.0732213246768\n",
      "Median comment length: 205.0\n",
      "Maximum comment length: 5000\n"
     ]
    },
    {
     "data": {
      "text/plain": [
       "<Figure size 800x400 with 1 Axes>"
      ],
      "image/png": "[encoded data removed]"
     },
     "metadata": {},
     "output_type": "display_data"
    }
   ],
   "execution_count": 30
  },
  {
   "metadata": {
    "ExecuteTime": {
     "end_time": "2025-09-23T21:59:12.462084Z",
     "start_time": "2025-09-23T21:59:12.379085Z"
    }
   },
   "cell_type": "code",
   "source": [
    "print(\"\\nNon-toxic examples:\\n\")\n",
    "for text in df.loc[df[label_cols].sum(axis=1) == 0, \"comment_text\"].sample(5, random_state=42):\n",
    "    print(\"-\", text, \"\\n\\n\")\n",
    "\n",
    "print(\"\\nToxic examples:\\n\")\n",
    "for text in df.loc[df[\"toxic\"] == 1, \"comment_text\"].sample(5, random_state=42):\n",
    "    print(\"-\", text, \"\\n\\n\")\n"
   ],
   "id": "d402292bab56e614",
   "outputs": [
    {
     "name": "stdout",
     "output_type": "stream",
     "text": [
      "\n",
      "Non-toxic examples:\n",
      "\n",
      "- \"\n",
      "\n",
      "Oh, don't worry about me, Sandstein. I'm of no strong opinion as to what is \"\"well.\"\" Editing Wikipedia is not a personal benefit; if it were, I'd be COI! I do have some unfinished business, both with articles and \"\"arbitration or sanctions,\"\" such as the RfAr/Clarification and a dispute over my last block, which was ostensibly about the sanction and which I hope can be resolved without much fuss. On the other hand, I hoped that in the past as well, but I can't control how others respond. I understand your recommendation and see it as well-motivated. Thanks.   \" \n",
      "\n",
      "\n",
      "- Are you trying to dispute that fact? \n",
      "\n",
      "\n",
      "- SWOT analysis \n",
      "\n",
      "This source – Align Technology, Inc. SWOT Analysis. (2013). 1-8. – is used 11 times, with no indication of how to find it or whether it's a primary source (I assume it is), so I'm going to remove anything sourced to it. Leaving this note in case there are objections.  (talk) \n",
      "\n",
      "\n",
      "- cover \n",
      "\n",
      "so, do we want a current or older cover? i have the 57 paper edition i can scan. its actually not even in the amazon list of covers, its older. \n",
      "\n",
      "\n",
      "- P.S. It's probably worth setting up a template to be used for all the periods, so they can easily be kept in the same format.  It would make it easier for me, for example, to remove the padding around the timeline if I could do it in one place. ' T''' \n",
      "\n",
      "\n",
      "\n",
      "Toxic examples:\n",
      "\n",
      "- Hi! \n",
      "\n",
      "I wanna rape you! \n",
      "\n",
      "\n",
      "- Terrorize \n",
      "I will terrorise you for as long as you live - you are an arrogant, disgusting and rude excuse for a human being & you are going to die soon so I suggest you stop threatening people you bastard. \n",
      "\n",
      "\n",
      "- Being blocked\n",
      "\n",
      "So that's your idea of mediation, is it? R Lopez can run amok through Wikipedia with his lying crap, and I get blocked for stating my intention of stopping him unless Wikipedia's rather creaky structures do so. I've seen some silly things since I have been editing here but that would be the silliest. \n",
      "\n",
      "\n",
      "- Editing Wikipedia \n",
      "\n",
      "Fuck You, you anal rapist \n",
      "\n",
      "\n",
      "- So the fact that the US Govt wants to put some dude in jail for 6 yrs is irrelevant to you?  The fact that the US Govt wants some dude to PAY restitution in over $160,000 to celebrites is irrelevant to you?  You act like that kind of stuff happens every day.  But I challenge you to name one other person that is has happened to, on the scale that this has happened, anywhere in the country.  You can't, can you.  Maybe you should look in the mirror before calling someone disruptive. \n",
      "\n",
      "\n"
     ]
    }
   ],
   "execution_count": 33
  },
  {
   "metadata": {},
   "cell_type": "code",
   "outputs": [],
   "execution_count": null,
   "source": "",
   "id": "f0a85d907d051b89"
  }
 ],
 "metadata": {
  "kernelspec": {
   "display_name": "Python 3",
   "language": "python",
   "name": "python3"
  },
  "language_info": {
   "codemirror_mode": {
    "name": "ipython",
    "version": 2
   },
   "file_extension": ".py",
   "mimetype": "text/x-python",
   "name": "python",
   "nbconvert_exporter": "python",
   "pygments_lexer": "ipython2",
   "version": "2.7.6"
  }
 },
 "nbformat": 4,
 "nbformat_minor": 5
}
